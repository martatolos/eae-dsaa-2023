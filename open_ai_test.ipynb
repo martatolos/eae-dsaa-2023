{
 "cells": [
  {
   "metadata": {},
   "cell_type": "markdown",
   "source": "<a href=\"https://colab.research.google.com/github/martatolos/eae-dsaa-2025/blob/main/open_ai_test.ipynb\" target=\"_parent\"><img src=\"https://colab.research.google.com/assets/colab-badge.svg\" alt=\"Open In Colab\"/></a>",
   "id": "279d0aa1e768b674"
  },
  {
   "metadata": {},
   "cell_type": "markdown",
   "source": [
    "### Test Open API-Key\n",
    "\n",
    "This notebook is designed to check whether your Open AI API key setup is working correctly."
   ],
   "id": "c0a7bce68ac52ab2"
  },
  {
   "metadata": {},
   "cell_type": "code",
   "source": [
    "# Install requirements\n",
    "%pip install ipython openai==1.75.0 python-dotenv"
   ],
   "id": "7f1a304c5bc77ec",
   "outputs": [],
   "execution_count": null
  },
  {
   "metadata": {},
   "cell_type": "code",
   "source": [
    "# Test the Open AI key\n",
    "from openai import OpenAI\n",
    "\n",
    "# API key used for requesting the Open AI api\n",
    "MY_OPENAI_KEY = \"<COPY-PASTE-YOUR-OPENAI-KEY-HERE>\"\n",
    "\n",
    "# Setup client and trigger a request\n",
    "client = OpenAI(api_key=MY_OPENAI_KEY)\n",
    "response = client.responses.create(\n",
    "    model=\"gpt-4.1-nano\",\n",
    "    input=\"Tell me a joke\",\n",
    "    top_p=1,\n",
    "    max_output_tokens=200\n",
    ")\n",
    "\n",
    "print(response.output[0].content[0].text)"
   ],
   "id": "5d3b9852eda7d21c",
   "outputs": [],
   "execution_count": null
  }
 ],
 "metadata": {
  "kernelspec": {
   "display_name": "Python 3",
   "language": "python",
   "name": "python3"
  },
  "language_info": {
   "codemirror_mode": {
    "name": "ipython",
    "version": 2
   },
   "file_extension": ".py",
   "mimetype": "text/x-python",
   "name": "python",
   "nbconvert_exporter": "python",
   "pygments_lexer": "ipython2",
   "version": "2.7.6"
  }
 },
 "nbformat": 4,
 "nbformat_minor": 5
}
