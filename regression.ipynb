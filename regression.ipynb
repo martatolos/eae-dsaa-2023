{
 "cells": [
  {
   "cell_type": "markdown",
   "metadata": {
    "id": "_8mhjv9qC40T"
   },
   "source": [
    "<a href=\"https://colab.research.google.com/github/martatolos/eae-dsaa-2025/blob/main/regression.ipynb\" target=\"_parent\"><img src=\"https://colab.research.google.com/assets/colab-badge.svg\" alt=\"Open In Colab\"/></a>"
   ]
  },
  {
   "cell_type": "markdown",
   "metadata": {},
   "source": [
    "# Regression"
   ]
  },
  {
   "cell_type": "markdown",
   "metadata": {},
   "source": [
    "> Goal of the session:\n",
    ">\n",
    "> - At the end of this activity, you will understand the basics of linear regression and the analysis to be performed before training a model.\n",
    ">\n",
    "> Scope of the session\n",
    ">\n",
    "> - Walk through the basic concepts of data exploration and analysis.\n",
    "> - Train a linear regression model using the `sklearn` library and observe how the trained model inference works."
   ]
  },
  {
   "cell_type": "markdown",
   "metadata": {},
   "source": [
    "## 1. Setup"
   ]
  },
  {
   "cell_type": "markdown",
   "metadata": {},
   "source": [
    "### Dependencies\n",
    "\n",
    "- ``numpy`` 2.0.2\n",
    "- ``pandas`` 2.2.2\n",
    "- ``scikit-learn`` 1.6.1\n",
    "- ``seaborn`` 0.13.2\n",
    "\n",
    "> [!Note]\n",
    "> Jupyter notebooks allow to install packages using ``%pip`` magic command, which is equivalent to using the ``pip`` command in the terminal."
   ]
  },
  {
   "cell_type": "code",
   "execution_count": null,
   "metadata": {
    "id": "riTZSBDA8g53"
   },
   "outputs": [],
   "source": [
    "%pip install islp==0.4.0 pandas==2.2.2 scikit-learn==1.6.1 seaborn==0.13.2"
   ]
  },
  {
   "cell_type": "markdown",
   "metadata": {},
   "source": [
    "### Imports\n",
    "\n",
    "After installing them, we import the libraries which we will use in this notebook. We also set the random seed to ensure reproducibility of results."
   ]
  },
  {
   "cell_type": "code",
   "execution_count": null,
   "metadata": {
    "id": "EfXcTyVQsKlN"
   },
   "outputs": [],
   "source": [
    "import numpy as np  # For numerical operations.\n",
    "import pandas as pd  # Most commonly used library for data manipulation and analysis.\n",
    "import seaborn as sns  # For data visualization.\n",
    "from sklearn.linear_model import LinearRegression  # For linear regression modeling.\n",
    "from sklearn.preprocessing import OneHotEncoder  # For one-hot encoding categorical variables."
   ]
  },
  {
   "cell_type": "markdown",
   "metadata": {},
   "source": [
    "### Data\n",
    "\n",
    "We will use the **carseats** dataset. This dataset contains information about sales of child car seats at 400 different stores. The goal is to predict the sales of car seats based on various features such as price, location, and other attributes."
   ]
  },
  {
   "cell_type": "code",
   "execution_count": null,
   "metadata": {},
   "outputs": [],
   "source": [
    "car_seats = pd.read_csv(\n",
    "    \"https://raw.githubusercontent.com/intro-stat-learning/ISLP/refs/heads/main/ISLP/data/Carseats.csv\"\n",
    ")"
   ]
  },
  {
   "cell_type": "markdown",
   "metadata": {
    "id": "xhtaI028Cw7E"
   },
   "source": [
    "## 2. Analysis"
   ]
  },
  {
   "cell_type": "code",
   "execution_count": null,
   "metadata": {
    "id": "3IEuwI5NsNoe"
   },
   "outputs": [],
   "source": [
    "car_seats"
   ]
  },
  {
   "cell_type": "markdown",
   "metadata": {
    "id": "jRADHYThgDSl"
   },
   "source": [
    "The **carseats** dataset we loaded is a dataframe with 400 observations on the following 11 variables:\n",
    "\n",
    "- **Sales**\n",
    "Unit sales (in thousands) at each location\n",
    "\n",
    "- **CompPrice**\n",
    "Price charged by competitor at each location\n",
    "\n",
    "- **Income**\n",
    "Community income level (in thousands of dollars)\n",
    "\n",
    "- **Advertising**\n",
    "Local advertising budget for company at each location (in thousands of dollars)\n",
    "\n",
    "- **Population**\n",
    "Population size in region (in thousands)\n",
    "\n",
    "- **Price**\n",
    "Price company charges for car seats at each site\n",
    "\n",
    "- **ShelveLoc**\n",
    "A factor with levels Bad, Good and Medium indicating the quality of the shelving location for the car seats at each site\n",
    "\n",
    "- **Age**\n",
    "Average age of the local population\n",
    "\n",
    "- **Education**\n",
    "Education level at each location\n",
    "\n",
    "- **Urban**\n",
    "A factor with levels No and Yes to indicate whether the store is in an urban or rural location\n",
    "\n",
    "- **US**\n",
    "A factor with levels No and Yes to indicate whether the store is in the US or not"
   ]
  },
  {
   "cell_type": "code",
   "execution_count": null,
   "metadata": {
    "id": "o9X8csHOtajt"
   },
   "outputs": [],
   "source": [
    "car_seats.dtypes"
   ]
  },
  {
   "cell_type": "markdown",
   "metadata": {
    "id": "oSBK5Oyi7bpg"
   },
   "source": [
    "What is a float?\n",
    "What does 64 mean?\n",
    "What is a category?"
   ]
  },
  {
   "cell_type": "code",
   "execution_count": null,
   "metadata": {
    "id": "-dQZNUOltDUR"
   },
   "outputs": [],
   "source": [
    "car_seats.describe()"
   ]
  },
  {
   "cell_type": "markdown",
   "metadata": {
    "id": "VBwNtN247pqu"
   },
   "source": [
    "To which conclusions can we come by analyzing above table? Should we care about the value ranges? What's missing in this table?"
   ]
  },
  {
   "cell_type": "code",
   "execution_count": null,
   "metadata": {
    "id": "18y6KLjuty4Y"
   },
   "outputs": [],
   "source": [
    "# Convert object columns to category dtype\n",
    "car_seats[\"ShelveLoc\"] = car_seats[\"ShelveLoc\"].astype(\"category\")\n",
    "car_seats[\"Urban\"] = car_seats[\"Urban\"].astype(\"category\")\n",
    "car_seats[\"US\"] = car_seats[\"US\"].astype(\"category\")\n",
    "\n",
    "car_seats.describe(include=[\"category\"])"
   ]
  },
  {
   "cell_type": "markdown",
   "metadata": {},
   "source": [
    "#### The convenience of proper types\n",
    "\n",
    "Often string values of categorical variables are not recognized as such and get the ``object`` type assigned. This can lead to problems when we want to use these variables in our analysis. We can convert them to categorical variables using the ``astype`` method. This will allow us to use them better in our analysis and also save memory.\n",
    "\n",
    "When a string column is converted from object to string, the actual values are encoded as integers and the mapping is stored in the column's metadata. This allows for more efficient storage and faster operations on the column, as the underlying data is now represented as integers rather than strings. The original string values can still be accessed using the mapping, so we don't lose any information in the process.\n",
    "\n",
    "### Pairplot and correlation matrix"
   ]
  },
  {
   "cell_type": "code",
   "execution_count": null,
   "metadata": {
    "id": "JRcHXGG0ui3_"
   },
   "outputs": [],
   "source": [
    "sns.pairplot(car_seats)  # hue=\"ShelveLoc\""
   ]
  },
  {
   "cell_type": "markdown",
   "metadata": {
    "id": "D-WmU6bs7P6p"
   },
   "source": [
    "What can we derive from the above diagram?"
   ]
  },
  {
   "cell_type": "code",
   "execution_count": null,
   "metadata": {
    "id": "_L8eA7XgzVcb"
   },
   "outputs": [],
   "source": [
    "correlation = car_seats.corr(numeric_only=True)\n",
    "correlation\n",
    "# sns.heatmap(correlation, annot=True)"
   ]
  },
  {
   "cell_type": "markdown",
   "metadata": {},
   "source": [
    "Heatmaps are a quick way to spot correlations between variables."
   ]
  },
  {
   "cell_type": "code",
   "execution_count": null,
   "metadata": {
    "id": "eG9Dy3BROt-h"
   },
   "outputs": [],
   "source": [
    "for column_name in car_seats.columns:\n",
    "    sns.displot(car_seats[column_name], height=3)"
   ]
  },
  {
   "cell_type": "code",
   "execution_count": null,
   "metadata": {},
   "outputs": [],
   "source": [
    "sns.boxplot(car_seats)"
   ]
  },
  {
   "cell_type": "markdown",
   "metadata": {
    "id": "dIQZtUOi-eB3"
   },
   "source": [
    "## 3. Preparation"
   ]
  },
  {
   "cell_type": "markdown",
   "metadata": {},
   "source": [
    "Can a (linear) regression algorithm work with categorical features?"
   ]
  },
  {
   "cell_type": "code",
   "execution_count": null,
   "metadata": {
    "id": "yV5mojxiGUT9"
   },
   "outputs": [],
   "source": [
    "enc = OneHotEncoder(handle_unknown=\"ignore\")\n",
    "enc.fit(car_seats[[\"ShelveLoc\"]])\n",
    "shelve_loc_ohe = enc.transform(car_seats[[\"ShelveLoc\"]])\n",
    "shelve_loc_ohe.toarray()"
   ]
  },
  {
   "cell_type": "code",
   "execution_count": null,
   "metadata": {
    "id": "nNFEw3aOTRHk"
   },
   "outputs": [],
   "source": [
    "list(enc.categories_[0])"
   ]
  },
  {
   "cell_type": "code",
   "execution_count": null,
   "metadata": {
    "id": "JlojWBYPAPWd"
   },
   "outputs": [],
   "source": [
    "column_names = [\"ShelveLoc\" + category for category in list(enc.categories_[0])]\n",
    "shelve_loc = pd.DataFrame(shelve_loc_ohe.toarray(), columns=column_names)\n",
    "pd.concat([car_seats, shelve_loc], axis=1)"
   ]
  },
  {
   "cell_type": "markdown",
   "metadata": {
    "id": "fVQYhAxr-xoE"
   },
   "source": [
    "What's the difference between nominal and ordinal categorical features?"
   ]
  },
  {
   "cell_type": "code",
   "execution_count": null,
   "metadata": {
    "id": "QUEgYbD1MAgr"
   },
   "outputs": [],
   "source": [
    "# Setting binary columns to 1/0 or True/False has the same effect when applying to most regressors. Boolean columns\n",
    "# require less memory.\n",
    "car_seats[\"UrbanEnc\"] = car_seats[\"Urban\"].transform(lambda boolean: boolean == \"Yes\")"
   ]
  },
  {
   "cell_type": "code",
   "execution_count": null,
   "metadata": {
    "id": "Ksbp45jnMugM"
   },
   "outputs": [],
   "source": [
    "car_seats[\"USEnc\"] = car_seats[\"US\"].transform(lambda boolean: boolean == \"Yes\")"
   ]
  },
  {
   "cell_type": "code",
   "execution_count": null,
   "metadata": {
    "id": "07GzKRfKLgR2"
   },
   "outputs": [],
   "source": [
    "car_seats[\"ShelveLocEnc\"] = car_seats[\"ShelveLoc\"].transform(\n",
    "    lambda loc: 1 if loc == \"Bad\" else 2 if loc == \"Medium\" else 3\n",
    ")"
   ]
  },
  {
   "cell_type": "markdown",
   "metadata": {
    "id": "A4gH0eAmApf3"
   },
   "source": [
    "Is this a safe way to convert categorical values into numerical values? What if we have many different values?"
   ]
  },
  {
   "cell_type": "code",
   "execution_count": null,
   "metadata": {
    "id": "HJ1qUzYG_Kz_"
   },
   "outputs": [],
   "source": [
    "shelve_loc_dict = {\"Bad\": 1, \"Medium\": 2, \"Good\": 3}\n",
    "car_seats[\"ShelveLocEnc\"] = car_seats[\"ShelveLoc\"].map(shelve_loc_dict)"
   ]
  },
  {
   "cell_type": "code",
   "execution_count": null,
   "metadata": {
    "id": "ZR5XzRVCM0hZ"
   },
   "outputs": [],
   "source": [
    "car_seats"
   ]
  },
  {
   "cell_type": "markdown",
   "metadata": {
    "id": "gU01S0WTBb2F"
   },
   "source": [
    "What could we do more before training or linear regression model?"
   ]
  },
  {
   "cell_type": "markdown",
   "metadata": {
    "id": "BuMtxBG3M4ci"
   },
   "source": [
    "## 4. Linear Regression"
   ]
  },
  {
   "cell_type": "code",
   "execution_count": null,
   "metadata": {
    "id": "T5ynpowKNV_z"
   },
   "outputs": [],
   "source": [
    "X = car_seats[[\"Income\", \"Advertising\", \"Price\", \"Age\", \"CompPrice\", \"ShelveLocEnc\"]]\n",
    "y = car_seats[\"Sales\"]\n",
    "\n",
    "reg = LinearRegression().fit(X, y)"
   ]
  },
  {
   "cell_type": "code",
   "execution_count": null,
   "metadata": {
    "id": "NR0VEZPHOO3m"
   },
   "outputs": [],
   "source": [
    "data = {\"Income\": [10], \"Advertising\": [20], \"Price\": [100], \"Age\": [20], \"CompPrice\": [100], \"ShelveLocEnc\": [3]}\n",
    "X_new = pd.DataFrame(data)\n",
    "reg.predict(X_new)"
   ]
  },
  {
   "cell_type": "code",
   "execution_count": null,
   "metadata": {
    "id": "T0CHh7acNsn5"
   },
   "outputs": [],
   "source": [
    "coefficients = reg.coef_\n",
    "coefficients"
   ]
  },
  {
   "cell_type": "code",
   "execution_count": null,
   "metadata": {
    "id": "Nfj7UjQMVQSW"
   },
   "outputs": [],
   "source": [
    "intercept = reg.intercept_\n",
    "intercept"
   ]
  },
  {
   "cell_type": "markdown",
   "metadata": {},
   "source": [
    "Try to obtain the same result as the model by using the values in ``data``, ``coefficients`` and ``intercept`` variables."
   ]
  },
  {
   "cell_type": "code",
   "execution_count": null,
   "metadata": {},
   "outputs": [],
   "source": [
    "def predict_sales(data: np.ndarray[float], coefficients: np.ndarray[float], intercept: np.float64) -> float:\n",
    "    \"\"\"Generate a prediction of sales based on the coefficients and intercept of a linear regression model.\n",
    "\n",
    "    ``Data`` contains the input features\n",
    "\n",
    "    :param data: A dictionary containing the input features for the prediction.\n",
    "    :param coefficients: The coefficients of the linear regression model.\n",
    "    :param intercept: The intercept of the linear regression model.\n",
    "    \"\"\"\n",
    "    # Add your code here"
   ]
  },
  {
   "cell_type": "code",
   "execution_count": null,
   "metadata": {},
   "outputs": [],
   "source": [
    "raw_data = np.array([value[0] for value in data.values()], dtype=np.float64)\n",
    "\n",
    "predicted_sales = predict_sales(data, coefficients, intercept)\n",
    "model_sales = reg.predict(X_new)[0]\n",
    "\n",
    "print(f\"Predicted sales: {predicted_sales}\")\n",
    "print(f\"Model sales: {model_sales}\")\n",
    "\n",
    "if round(predicted_sales, 3) == round(model_sales, 3):\n",
    "    print(\"The predicted sales match the model's prediction.\")\n",
    "\n",
    "else:\n",
    "    print(\"The predicted sales do not match the model's prediction.\")"
   ]
  }
 ],
 "metadata": {
  "colab": {
   "authorship_tag": "ABX9TyNAgWnyK4rvqnxICO91PSot",
   "include_colab_link": true,
   "provenance": [],
   "toc_visible": true
  },
  "kernelspec": {
   "display_name": ".venv",
   "language": "python",
   "name": "python3"
  },
  "language_info": {
   "codemirror_mode": {
    "name": "ipython",
    "version": 3
   },
   "file_extension": ".py",
   "mimetype": "text/x-python",
   "name": "python",
   "nbconvert_exporter": "python",
   "pygments_lexer": "ipython3",
   "version": "3.12.6"
  }
 },
 "nbformat": 4,
 "nbformat_minor": 0
}
